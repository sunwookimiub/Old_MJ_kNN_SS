{
 "cells": [
  {
   "cell_type": "code",
   "execution_count": 1,
   "metadata": {},
   "outputs": [],
   "source": [
    "import librosa\n",
    "import numpy as np\n",
    "import matplotlib.pyplot as plt\n",
    "from scipy.spatial.distance import cdist"
   ]
  },
  {
   "cell_type": "code",
   "execution_count": 8,
   "metadata": {},
   "outputs": [],
   "source": [
    "tes, sr=librosa.load(\"tes.wav\", sr=None)\n",
    "ten, sr=librosa.load(\"ten.wav\", sr=None)\n",
    "tex = tes+ten\n",
    "\n",
    "trs, sr=librosa.load(\"trs.wav\", sr=None)\n",
    "trn, sr=librosa.load(\"trn.wav\", sr=None)\n",
    "trx = trs+trn"
   ]
  },
  {
   "cell_type": "code",
   "execution_count": 11,
   "metadata": {},
   "outputs": [],
   "source": [
    "sz = 1024\n",
    "hp = 512\n",
    "wn = 'hann'"
   ]
  },
  {
   "cell_type": "code",
   "execution_count": 46,
   "metadata": {},
   "outputs": [],
   "source": [
    "trS = abs(librosa.stft(trs, n_fft=sz, hop_length=hp, window=wn))\n",
    "trN = abs(librosa.stft(trn, n_fft=sz, hop_length=hp, window=wn))\n",
    "trX = abs(librosa.stft(trx, n_fft=sz, hop_length=hp, window=wn))\n",
    "teX = librosa.stft(tex, n_fft=sz, hop_length=hp, window=wn)"
   ]
  },
  {
   "cell_type": "code",
   "execution_count": 50,
   "metadata": {},
   "outputs": [],
   "source": [
    "IBM = 1*(trS > trN)"
   ]
  },
  {
   "cell_type": "code",
   "execution_count": 74,
   "metadata": {},
   "outputs": [],
   "source": [
    "D = cdist(abs(teX).T,trX.T,'cosine')"
   ]
  },
  {
   "cell_type": "code",
   "execution_count": 83,
   "metadata": {},
   "outputs": [],
   "source": [
    "Ds, DsIdx = np.sort(D,1), np.argsort(D,1)"
   ]
  },
  {
   "cell_type": "code",
   "execution_count": 84,
   "metadata": {},
   "outputs": [],
   "source": [
    "K = 5"
   ]
  },
  {
   "cell_type": "code",
   "execution_count": 88,
   "metadata": {},
   "outputs": [],
   "source": [
    "kNNIdx = DsIdx[:, :K]\n",
    "kNNIdx1D = np.reshape(kNNIdx, -1)"
   ]
  },
  {
   "cell_type": "code",
   "execution_count": 103,
   "metadata": {},
   "outputs": [],
   "source": [
    "IBM3D = IBM[:,kNNIdx1D]\n",
    "IBM3D = np.reshape(IBM3D, [513, K, -1])\n",
    "IBMEstMed = np.median(IBM3D, 1)\n",
    "IBMEstMean = np.mean(IBM3D, 1)"
   ]
  },
  {
   "cell_type": "code",
   "execution_count": 114,
   "metadata": {},
   "outputs": [],
   "source": [
    "yhat1 = librosa.istft(teX*IBMEstMed, hop_length=hp, window=wn)\n",
    "yhat2 = librosa.istft(teX*IBMEstMean, hop_length=hp, window=wn)"
   ]
  },
  {
   "cell_type": "code",
   "execution_count": 116,
   "metadata": {},
   "outputs": [],
   "source": [
    "def SDR(s,sr):\n",
    "    eps=1e-20\n",
    "    ml=np.minimum(len(s), len(sr))\n",
    "    s=s[:ml]\n",
    "    sr=sr[:ml]\n",
    "    return ml, 10*np.log10(np.sum(s**2)/(np.sum((s-sr)**2)+eps)+eps)"
   ]
  },
  {
   "cell_type": "code",
   "execution_count": 117,
   "metadata": {},
   "outputs": [
    {
     "data": {
      "text/plain": [
       "(66560, 5.351284471964779)"
      ]
     },
     "execution_count": 117,
     "metadata": {},
     "output_type": "execute_result"
    }
   ],
   "source": [
    "SDR(yhat1, yhat2)"
   ]
  },
  {
   "cell_type": "code",
   "execution_count": 120,
   "metadata": {},
   "outputs": [
    {
     "data": {
      "text/plain": [
       "(66560, -0.9322031636986516)"
      ]
     },
     "execution_count": 120,
     "metadata": {},
     "output_type": "execute_result"
    }
   ],
   "source": [
    "SDR(tes, tex)"
   ]
  },
  {
   "cell_type": "code",
   "execution_count": null,
   "metadata": {},
   "outputs": [],
   "source": []
  }
 ],
 "metadata": {
  "kernelspec": {
   "display_name": "Python 3",
   "language": "python",
   "name": "python3"
  },
  "language_info": {
   "codemirror_mode": {
    "name": "ipython",
    "version": 3
   },
   "file_extension": ".py",
   "mimetype": "text/x-python",
   "name": "python",
   "nbconvert_exporter": "python",
   "pygments_lexer": "ipython3",
   "version": "3.7.1"
  }
 },
 "nbformat": 4,
 "nbformat_minor": 2
}
